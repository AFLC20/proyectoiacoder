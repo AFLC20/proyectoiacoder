import openai
from dalle import DalleModel

# Configuración de la API de OpenAI
openai.api_key = 'tu_api_key'

# Función para obtener diagnóstico a partir de los síntomas
def obtener_diagnostico(sintomas):
    prompt_texto = f"Diagnóstico para síntomas: {sintomas}. ¿Qué enfermedades podrían estar relacionadas?"
    response = openai.Completion.create(
      model="text-davinci-003",
      prompt=prompt_texto,
      max_tokens=150
    )
    return response.choices[0].text.strip()

# Función para generar imagen de los síntomas
def generar_imagen(sintomas):
    prompt_imagen = f"Representación visual de los síntomas: {sintomas}."
    imagen = DalleModel.generate_image(prompt_imagen)
    return imagen

# Ejemplo de uso
sintomas = "fiebre, dolor de garganta, cansancio"
diagnostico = obtener_diagnostico(sintomas)
imagen = generar_imagen(sintomas)

print(f"Diagnóstico: {diagnostico}")
imagen.show()

