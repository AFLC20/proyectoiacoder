{
 "cells": [
  {
   "cell_type": "code",
   "execution_count": 3,
   "metadata": {},
   "outputs": [
    {
     "ename": "APIRemovedInV1",
     "evalue": "\n\nYou tried to access openai.ChatCompletion, but this is no longer supported in openai>=1.0.0 - see the README at https://github.com/openai/openai-python for the API.\n\nYou can run `openai migrate` to automatically upgrade your codebase to use the 1.0.0 interface. \n\nAlternatively, you can pin your installation to the old version, e.g. `pip install openai==0.28`\n\nA detailed migration guide is available here: https://github.com/openai/openai-python/discussions/742\n",
     "output_type": "error",
     "traceback": [
      "\u001b[0;31m---------------------------------------------------------------------------\u001b[0m",
      "\u001b[0;31mAPIRemovedInV1\u001b[0m                            Traceback (most recent call last)",
      "Cell \u001b[0;32mIn[3], line 40\u001b[0m\n\u001b[1;32m     38\u001b[0m \u001b[38;5;66;03m# Ejemplo de uso\u001b[39;00m\n\u001b[1;32m     39\u001b[0m sintomas \u001b[38;5;241m=\u001b[39m \u001b[38;5;124m\"\u001b[39m\u001b[38;5;124mfiebre, dolor de garganta, cansancio\u001b[39m\u001b[38;5;124m\"\u001b[39m\n\u001b[0;32m---> 40\u001b[0m diagnostico \u001b[38;5;241m=\u001b[39m \u001b[43mobtener_diagnostico\u001b[49m\u001b[43m(\u001b[49m\u001b[43msintomas\u001b[49m\u001b[43m)\u001b[49m\n\u001b[1;32m     41\u001b[0m imagen \u001b[38;5;241m=\u001b[39m generar_imagen(sintomas)\n\u001b[1;32m     43\u001b[0m \u001b[38;5;28mprint\u001b[39m(\u001b[38;5;124mf\u001b[39m\u001b[38;5;124m\"\u001b[39m\u001b[38;5;124mDiagnóstico: \u001b[39m\u001b[38;5;132;01m{\u001b[39;00mdiagnostico\u001b[38;5;132;01m}\u001b[39;00m\u001b[38;5;124m\"\u001b[39m)\n",
      "Cell \u001b[0;32mIn[3], line 12\u001b[0m, in \u001b[0;36mobtener_diagnostico\u001b[0;34m(sintomas)\u001b[0m\n\u001b[1;32m     10\u001b[0m \u001b[38;5;28;01mdef\u001b[39;00m\u001b[38;5;250m \u001b[39m\u001b[38;5;21mobtener_diagnostico\u001b[39m(sintomas):\n\u001b[1;32m     11\u001b[0m     prompt_texto \u001b[38;5;241m=\u001b[39m \u001b[38;5;124mf\u001b[39m\u001b[38;5;124m\"\u001b[39m\u001b[38;5;124mDiagnóstico para síntomas: \u001b[39m\u001b[38;5;132;01m{\u001b[39;00msintomas\u001b[38;5;132;01m}\u001b[39;00m\u001b[38;5;124m. ¿Qué enfermedades podrían estar relacionadas?\u001b[39m\u001b[38;5;124m\"\u001b[39m\n\u001b[0;32m---> 12\u001b[0m     response \u001b[38;5;241m=\u001b[39m \u001b[43mopenai\u001b[49m\u001b[38;5;241;43m.\u001b[39;49m\u001b[43mChatCompletion\u001b[49m\u001b[38;5;241;43m.\u001b[39;49m\u001b[43mcreate\u001b[49m\u001b[43m(\u001b[49m\n\u001b[1;32m     13\u001b[0m \u001b[43m        \u001b[49m\u001b[43mmodel\u001b[49m\u001b[38;5;241;43m=\u001b[39;49m\u001b[38;5;124;43m\"\u001b[39;49m\u001b[38;5;124;43mgpt-4\u001b[39;49m\u001b[38;5;124;43m\"\u001b[39;49m\u001b[43m,\u001b[49m\n\u001b[1;32m     14\u001b[0m \u001b[43m        \u001b[49m\u001b[43mmessages\u001b[49m\u001b[38;5;241;43m=\u001b[39;49m\u001b[43m[\u001b[49m\u001b[43m{\u001b[49m\u001b[38;5;124;43m\"\u001b[39;49m\u001b[38;5;124;43mrole\u001b[39;49m\u001b[38;5;124;43m\"\u001b[39;49m\u001b[43m:\u001b[49m\u001b[43m \u001b[49m\u001b[38;5;124;43m\"\u001b[39;49m\u001b[38;5;124;43msystem\u001b[39;49m\u001b[38;5;124;43m\"\u001b[39;49m\u001b[43m,\u001b[49m\u001b[43m \u001b[49m\u001b[38;5;124;43m\"\u001b[39;49m\u001b[38;5;124;43mcontent\u001b[39;49m\u001b[38;5;124;43m\"\u001b[39;49m\u001b[43m:\u001b[49m\u001b[43m \u001b[49m\u001b[38;5;124;43m\"\u001b[39;49m\u001b[38;5;124;43mEres un asistente médico.\u001b[39;49m\u001b[38;5;124;43m\"\u001b[39;49m\u001b[43m}\u001b[49m\u001b[43m,\u001b[49m\n\u001b[1;32m     15\u001b[0m \u001b[43m                  \u001b[49m\u001b[43m{\u001b[49m\u001b[38;5;124;43m\"\u001b[39;49m\u001b[38;5;124;43mrole\u001b[39;49m\u001b[38;5;124;43m\"\u001b[39;49m\u001b[43m:\u001b[49m\u001b[43m \u001b[49m\u001b[38;5;124;43m\"\u001b[39;49m\u001b[38;5;124;43muser\u001b[39;49m\u001b[38;5;124;43m\"\u001b[39;49m\u001b[43m,\u001b[49m\u001b[43m \u001b[49m\u001b[38;5;124;43m\"\u001b[39;49m\u001b[38;5;124;43mcontent\u001b[39;49m\u001b[38;5;124;43m\"\u001b[39;49m\u001b[43m:\u001b[49m\u001b[43m \u001b[49m\u001b[43mprompt_texto\u001b[49m\u001b[43m}\u001b[49m\u001b[43m]\u001b[49m\u001b[43m,\u001b[49m\n\u001b[1;32m     16\u001b[0m \u001b[43m        \u001b[49m\u001b[43mmax_tokens\u001b[49m\u001b[38;5;241;43m=\u001b[39;49m\u001b[38;5;241;43m150\u001b[39;49m\n\u001b[1;32m     17\u001b[0m \u001b[43m    \u001b[49m\u001b[43m)\u001b[49m\n\u001b[1;32m     18\u001b[0m     \u001b[38;5;28;01mreturn\u001b[39;00m response[\u001b[38;5;124m\"\u001b[39m\u001b[38;5;124mchoices\u001b[39m\u001b[38;5;124m\"\u001b[39m][\u001b[38;5;241m0\u001b[39m][\u001b[38;5;124m\"\u001b[39m\u001b[38;5;124mmessage\u001b[39m\u001b[38;5;124m\"\u001b[39m][\u001b[38;5;124m\"\u001b[39m\u001b[38;5;124mcontent\u001b[39m\u001b[38;5;124m\"\u001b[39m]\u001b[38;5;241m.\u001b[39mstrip()\n",
      "File \u001b[0;32m/Library/Frameworks/Python.framework/Versions/3.10/lib/python3.10/site-packages/openai/lib/_old_api.py:39\u001b[0m, in \u001b[0;36mAPIRemovedInV1Proxy.__call__\u001b[0;34m(self, *_args, **_kwargs)\u001b[0m\n\u001b[1;32m     38\u001b[0m \u001b[38;5;28;01mdef\u001b[39;00m\u001b[38;5;250m \u001b[39m\u001b[38;5;21m__call__\u001b[39m(\u001b[38;5;28mself\u001b[39m, \u001b[38;5;241m*\u001b[39m_args: Any, \u001b[38;5;241m*\u001b[39m\u001b[38;5;241m*\u001b[39m_kwargs: Any) \u001b[38;5;241m-\u001b[39m\u001b[38;5;241m>\u001b[39m Any:\n\u001b[0;32m---> 39\u001b[0m     \u001b[38;5;28;01mraise\u001b[39;00m APIRemovedInV1(symbol\u001b[38;5;241m=\u001b[39m\u001b[38;5;28mself\u001b[39m\u001b[38;5;241m.\u001b[39m_symbol)\n",
      "\u001b[0;31mAPIRemovedInV1\u001b[0m: \n\nYou tried to access openai.ChatCompletion, but this is no longer supported in openai>=1.0.0 - see the README at https://github.com/openai/openai-python for the API.\n\nYou can run `openai migrate` to automatically upgrade your codebase to use the 1.0.0 interface. \n\nAlternatively, you can pin your installation to the old version, e.g. `pip install openai==0.28`\n\nA detailed migration guide is available here: https://github.com/openai/openai-python/discussions/742\n"
     ]
    }
   ],
   "source": [
    "import openai\n",
    "from PIL import Image\n",
    "import requests\n",
    "from io import BytesIO\n",
    "\n",
    "# Configuración de la API de OpenAI\n",
    "openai.api_key = \"tu_api_key\"  # Reemplaza con tu API Key\n",
    "\n",
    "# Función para obtener diagnóstico a partir de los síntomas\n",
    "def obtener_diagnostico(sintomas):\n",
    "    prompt_texto = f\"Diagnóstico para síntomas: {sintomas}. ¿Qué enfermedades podrían estar relacionadas?\"\n",
    "    response = openai.ChatCompletion.create(\n",
    "        model=\"gpt-4\",\n",
    "        messages=[{\"role\": \"system\", \"content\": \"Eres un asistente médico.\"},\n",
    "                  {\"role\": \"user\", \"content\": prompt_texto}],\n",
    "        max_tokens=150\n",
    "    )\n",
    "    return response[\"choices\"][0][\"message\"][\"content\"].strip()\n",
    "\n",
    "# Función para generar imagen de los síntomas\n",
    "def generar_imagen(sintomas):\n",
    "    prompt_imagen = f\"Ilustración médica representando los síntomas: {sintomas}.\"\n",
    "    response = openai.Image.create(\n",
    "        prompt=prompt_imagen,\n",
    "        n=1,\n",
    "        size=\"1024x1024\"\n",
    "    )\n",
    "    \n",
    "    # Obtener la URL de la imagen generada\n",
    "    image_url = response[\"data\"][0][\"url\"]\n",
    "\n",
    "    # Descargar la imagen y mostrarla\n",
    "    response = requests.get(image_url)\n",
    "    img = Image.open(BytesIO(response.content))\n",
    "    \n",
    "    return img\n",
    "\n",
    "# Ejemplo de uso\n",
    "sintomas = \"fiebre, dolor de garganta, cansancio\"\n",
    "diagnostico = obtener_diagnostico(sintomas)\n",
    "imagen = generar_imagen(sintomas)\n",
    "\n",
    "print(f\"Diagnóstico: {diagnostico}\")\n",
    "imagen.show()\n",
    "\n"
   ]
  },
  {
   "cell_type": "markdown",
   "metadata": {},
   "source": [
    "# Asistente Virtual de Diagnóstico Médico con IA\n",
    "\n",
    "Este proyecto tiene como objetivo crear un asistente virtual basado en Inteligencia Artificial que permita a los usuarios obtener orientación sobre posibles enfermedades a partir de síntomas comunes. El asistente utilizará modelos de IA para generar tanto respuestas textuales como representaciones visuales que ayuden a los usuarios a comprender mejor los posibles diagnósticos.\n"
   ]
  },
  {
   "cell_type": "markdown",
   "metadata": {},
   "source": [
    "## Resumen\n",
    "\n",
    "Este proyecto está enfocado en desarrollar una solución accesible para ayudar a las personas a obtener diagnósticos preliminares a partir de los síntomas comunes. A través de un modelo de texto-texto (OpenAI GPT) y un modelo de texto-imagen (DALL·E), el asistente proporcionará información detallada sobre posibles enfermedades y generará imágenes que ayuden a visualizar los síntomas o enfermedades.\n"
   ]
  },
  {
   "cell_type": "markdown",
   "metadata": {},
   "source": [
    "## Introducción\n",
    "\n",
    "### Nombre del Proyecto: Asistente Virtual de Diagnóstico Médico con IA\n",
    "\n",
    "### Presentación del problema a abordar\n",
    "\n",
    "En la actualidad, las personas a menudo buscan información sobre salud en internet, pero muchas veces encuentran fuentes poco confiables. Además, no siempre comprenden claramente los síntomas de las enfermedades o cómo pueden estar relacionados. La falta de representación visual también complica el proceso. Este asistente virtual resuelve estos problemas al proporcionar tanto respuestas textuales como ilustraciones visuales claras y accesibles.\n",
    "\n",
    "### Desarrollo de la propuesta de solución\n",
    "\n",
    "La solución propuesta consiste en un asistente basado en IA que permite a los usuarios introducir sus síntomas y obtener una lista de enfermedades posibles, así como imágenes representativas de los síntomas. Utilizaremos un modelo de texto-texto de OpenAI para generar respuestas detalladas y un modelo de texto-imagen (DALL·E) para generar imágenes a partir de las descripciones proporcionadas por el usuario.\n",
    "\n",
    "### Justificación de la viabilidad del proyecto\n",
    "\n",
    "La viabilidad técnica de este proyecto es alta, ya que OpenAI y DALL·E son herramientas accesibles que se pueden integrar fácilmente en un entorno como Jupyter Notebook. Los recursos necesarios están al alcance, y el proyecto puede completarse en un plazo razonable, considerando las bibliotecas y APIs disponibles.\n",
    "\n"
   ]
  },
  {
   "cell_type": "markdown",
   "metadata": {},
   "source": [
    "## Objetivos\n",
    "\n",
    "1. Desarrollar un asistente virtual que genere respuestas a partir de los síntomas proporcionados por el usuario.\n",
    "2. Utilizar IA para crear imágenes ilustrativas que ayuden a visualizar los síntomas y enfermedades.\n",
    "3. Implementar la solución en una Jupyter Notebook que combine código, texto e imagen.\n",
    "4. Crear un repositorio público en GitHub para que el proyecto sea accesible.\n"
   ]
  },
  {
   "cell_type": "markdown",
   "metadata": {},
   "source": [
    "## Metodología\n",
    "\n",
    "El proyecto se desarrollará en varias etapas:\n",
    "\n",
    "1. **Recopilación de datos:** Se recopilarán los síntomas más comunes y las enfermedades relacionadas.\n",
    "2. **Desarrollo del modelo de texto-texto:** Usaremos OpenAI para generar respuestas a las consultas sobre síntomas.\n",
    "3. **Generación de imágenes con DALL·E:** Utilizaremos DALL·E para generar representaciones visuales de las enfermedades o síntomas.\n",
    "4. **Integración en Jupyter Notebook:** La solución será implementada en Jupyter Notebook para combinar el código, las respuestas textuales y las imágenes generadas.\n",
    "5. **Pruebas:** El asistente será probado con casos reales para evaluar su efectividad.\n"
   ]
  },
  {
   "cell_type": "markdown",
   "metadata": {},
   "source": [
    "## Herramientas y Tecnologías\n",
    "\n",
    "- **Fast Prompting:** Utilizaremos técnicas de fast prompting con OpenAI para generar respuestas rápidas y precisas a partir de los síntomas.\n",
    "- **DALL·E:** Usaremos DALL·E para generar imágenes a partir de los síntomas proporcionados por el usuario.\n",
    "- **Jupyter Notebook:** La implementación se llevará a cabo en un entorno Jupyter Notebook para combinar código, texto e imagen.\n"
   ]
  },
  {
   "cell_type": "markdown",
   "metadata": {},
   "source": [
    "## Resultados\n",
    "\n",
    "La implementación permitirá a los usuarios ingresar sus síntomas y recibir tanto un diagnóstico como una imagen representativa de los síntomas o enfermedades posibles. Esto facilitará la comprensión de las personas y les ayudará a tomar decisiones informadas sobre su salud.\n",
    "\n",
    "Por ejemplo, al ingresar los síntomas: \"fiebre, dolor de garganta, cansancio\", el asistente puede generar un diagnóstico de \"gripe\" y una imagen que ilustre los síntomas visibles de la enfermedad.\n"
   ]
  },
  {
   "cell_type": "markdown",
   "metadata": {},
   "source": [
    "## Conclusiones\n",
    "\n",
    "Este proyecto demuestra cómo la combinación de IA para generar texto y crear imágenes puede ser utilizada para ayudar a las personas a comprender mejor las enfermedades y sus síntomas. El asistente virtual desarrollado cumple con los objetivos propuestos, proporcionando respuestas rápidas y útiles, así como imágenes claras. El uso de OpenAI y DALL·E es efectivo y accesible, lo que hace que este proyecto sea viable y escalable.\n",
    "\n"
   ]
  },
  {
   "cell_type": "markdown",
   "metadata": {},
   "source": [
    "## Referencias\n",
    "\n",
    "- OpenAI API documentation: https://beta.openai.com/docs/\n",
    "- DALL·E API documentation: https://openai.com/dall-e\n"
   ]
  },
  {
   "cell_type": "code",
   "execution_count": null,
   "metadata": {},
   "outputs": [],
   "source": []
  }
 ],
 "metadata": {
  "kernelspec": {
   "display_name": "Python 3",
   "language": "python",
   "name": "python3"
  },
  "language_info": {
   "codemirror_mode": {
    "name": "ipython",
    "version": 3
   },
   "file_extension": ".py",
   "mimetype": "text/x-python",
   "name": "python",
   "nbconvert_exporter": "python",
   "pygments_lexer": "ipython3",
   "version": "3.10.4"
  }
 },
 "nbformat": 4,
 "nbformat_minor": 2
}
