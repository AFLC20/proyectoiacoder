{
 "cells": [
  {
   "cell_type": "code",
   "execution_count": 2,
   "metadata": {},
   "outputs": [
    {
     "ename": "ModuleNotFoundError",
     "evalue": "No module named 'dalle'",
     "output_type": "error",
     "traceback": [
      "\u001b[0;31m---------------------------------------------------------------------------\u001b[0m",
      "\u001b[0;31mModuleNotFoundError\u001b[0m                       Traceback (most recent call last)",
      "Cell \u001b[0;32mIn[2], line 2\u001b[0m\n\u001b[1;32m      1\u001b[0m \u001b[38;5;28;01mimport\u001b[39;00m\u001b[38;5;250m \u001b[39m\u001b[38;5;21;01mopenai\u001b[39;00m\n\u001b[0;32m----> 2\u001b[0m \u001b[38;5;28;01mfrom\u001b[39;00m\u001b[38;5;250m \u001b[39m\u001b[38;5;21;01mdalle\u001b[39;00m\u001b[38;5;250m \u001b[39m\u001b[38;5;28;01mimport\u001b[39;00m DalleModel\n\u001b[1;32m      4\u001b[0m \u001b[38;5;66;03m# Configuración de la API de OpenAI\u001b[39;00m\n\u001b[1;32m      5\u001b[0m openai\u001b[38;5;241m.\u001b[39mapi_key \u001b[38;5;241m=\u001b[39m \u001b[38;5;124m'\u001b[39m\u001b[38;5;124mtu_api_key\u001b[39m\u001b[38;5;124m'\u001b[39m\n",
      "\u001b[0;31mModuleNotFoundError\u001b[0m: No module named 'dalle'"
     ]
    }
   ],
   "source": [
    "import openai\n",
    "from dalle import DalleModel\n",
    "\n",
    "# Configuración de la API de OpenAI\n",
    "openai.api_key = 'tu_api_key'\n",
    "\n",
    "# Función para obtener diagnóstico a partir de los síntomas\n",
    "def obtener_diagnostico(sintomas):\n",
    "    prompt_texto = f\"Diagnóstico para síntomas: {sintomas}. ¿Qué enfermedades podrían estar relacionadas?\"\n",
    "    response = openai.Completion.create(\n",
    "      model=\"text-davinci-003\",\n",
    "      prompt=prompt_texto,\n",
    "      max_tokens=150\n",
    "    )\n",
    "    return response.choices[0].text.strip()\n",
    "\n",
    "# Función para generar imagen de los síntomas\n",
    "def generar_imagen(sintomas):\n",
    "    prompt_imagen = f\"Representación visual de los síntomas: {sintomas}.\"\n",
    "    imagen = DalleModel.generate_image(prompt_imagen)\n",
    "    return imagen\n",
    "\n",
    "# Ejemplo de uso\n",
    "sintomas = \"fiebre, dolor de garganta, cansancio\"\n",
    "diagnostico = obtener_diagnostico(sintomas)\n",
    "imagen = generar_imagen(sintomas)\n",
    "\n",
    "print(f\"Diagnóstico: {diagnostico}\")\n",
    "imagen.show()\n"
   ]
  },
  {
   "cell_type": "markdown",
   "metadata": {},
   "source": []
  },
  {
   "cell_type": "code",
   "execution_count": null,
   "metadata": {},
   "outputs": [],
   "source": []
  }
 ],
 "metadata": {
  "kernelspec": {
   "display_name": "Python 3",
   "language": "python",
   "name": "python3"
  },
  "language_info": {
   "codemirror_mode": {
    "name": "ipython",
    "version": 3
   },
   "file_extension": ".py",
   "mimetype": "text/x-python",
   "name": "python",
   "nbconvert_exporter": "python",
   "pygments_lexer": "ipython3",
   "version": "3.10.4"
  }
 },
 "nbformat": 4,
 "nbformat_minor": 2
}
